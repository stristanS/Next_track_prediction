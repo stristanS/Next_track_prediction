{
 "cells": [
  {
   "cell_type": "code",
   "execution_count": 1,
   "id": "smart-financing",
   "metadata": {},
   "outputs": [],
   "source": [
    "import numpy as np\n",
    "import pandas as pd\n",
    "# import matplotlib.pyplot as plt\n",
    "# %matplotlib inline\n",
    "import datetime\n",
    "\n",
    "import calendar\n",
    "import datetime\n",
    "import os\n",
    "import time\n",
    "from collections import Counter\n",
    "# from tqdm import tqdm"
   ]
  },
  {
   "cell_type": "code",
   "execution_count": null,
   "id": "absent-packet",
   "metadata": {},
   "outputs": [],
   "source": []
  },
  {
   "cell_type": "markdown",
   "id": "domestic-listening",
   "metadata": {},
   "source": [
    "# Данные"
   ]
  },
  {
   "cell_type": "code",
   "execution_count": 2,
   "id": "micro-psychology",
   "metadata": {},
   "outputs": [],
   "source": [
    "def load_and_adapt(path, last_months=0):\n",
    "    file_ext = os.path.splitext(path)[-1]\n",
    "    if file_ext == '.csv':\n",
    "        data = pd.read_csv(path, header=0)\n",
    "    elif file_ext == '.hdf':\n",
    "        data = pd.read_hdf(path)\n",
    "    else:\n",
    "        raise ValueError('Unsupported file {} having extension {}'.format(path, file_ext))\n",
    "\n",
    "    col_names = ['session_id', 'user_id', 'item_id', 'ts'] + data.columns.values.tolist()[4:]\n",
    "    data.columns = col_names\n",
    "\n",
    "    if last_months > 0:\n",
    "        def add_months(sourcedate, months):\n",
    "            month = sourcedate.month - 1 + months\n",
    "            year = int(sourcedate.year + month / 12)\n",
    "            month = month % 12 + 1\n",
    "            day = min(sourcedate.day, calendar.monthrange(year, month)[1])\n",
    "            return datetime.date(year, month, day)\n",
    "\n",
    "        lastdate = datetime.datetime.fromtimestamp(data.ts.max())\n",
    "        firstdate = add_months(lastdate, -last_months)\n",
    "        initial_unix = time.mktime(firstdate.timetuple())\n",
    "\n",
    "        # filter out older interactions\n",
    "        data = data[data['ts'] >= initial_unix]\n",
    "\n",
    "    return data"
   ]
  },
  {
   "cell_type": "code",
   "execution_count": 3,
   "id": "increasing-assessment",
   "metadata": {},
   "outputs": [],
   "source": [
    "def create_seq_db_filter_top_k(path, topk=0, last_months=0):\n",
    "    file = load_and_adapt(path, last_months=last_months)\n",
    "\n",
    "    # group by session id and concat song_id\n",
    "    groups = file.groupby('session_id')\n",
    "\n",
    "    # convert item ids to string, then aggregate them to lists\n",
    "    aggregated = groups['item_id'].aggregate(lambda x: list(map(int, x))).to_frame() ##было str\n",
    "    init_ts = groups['ts'].min()\n",
    "    users = groups['user_id'].min()  # it's just fast, min doesn't actually make sense\n",
    "\n",
    "    result = aggregated.join(init_ts).join(users)\n",
    "    result.reset_index(inplace=True)\n",
    "    result.rename(columns={'item_id': 'sequence'}, inplace = True)\n",
    "    return result"
   ]
  },
  {
   "cell_type": "code",
   "execution_count": 4,
   "id": "jewish-vegetarian",
   "metadata": {},
   "outputs": [],
   "source": [
    "df_songs = create_seq_db_filter_top_k(path='6mDataset_lastFM_v9.csv') "
   ]
  },
  {
   "cell_type": "code",
   "execution_count": 5,
   "id": "seven-tuition",
   "metadata": {},
   "outputs": [
    {
     "data": {
      "text/html": [
       "<div>\n",
       "<style scoped>\n",
       "    .dataframe tbody tr th:only-of-type {\n",
       "        vertical-align: middle;\n",
       "    }\n",
       "\n",
       "    .dataframe tbody tr th {\n",
       "        vertical-align: top;\n",
       "    }\n",
       "\n",
       "    .dataframe thead th {\n",
       "        text-align: right;\n",
       "    }\n",
       "</style>\n",
       "<table border=\"1\" class=\"dataframe\">\n",
       "  <thead>\n",
       "    <tr style=\"text-align: right;\">\n",
       "      <th></th>\n",
       "      <th>session_id</th>\n",
       "      <th>sequence</th>\n",
       "      <th>ts</th>\n",
       "      <th>user_id</th>\n",
       "    </tr>\n",
       "  </thead>\n",
       "  <tbody>\n",
       "    <tr>\n",
       "      <th>0</th>\n",
       "      <td>927</td>\n",
       "      <td>[3313114, 3313106, 1847374, 3313138, 3312808]</td>\n",
       "      <td>1390344124</td>\n",
       "      <td>41837</td>\n",
       "    </tr>\n",
       "    <tr>\n",
       "      <th>1</th>\n",
       "      <td>933</td>\n",
       "      <td>[2721045, 205473, 2224399, 2004872, 2061887, 2...</td>\n",
       "      <td>1390452313</td>\n",
       "      <td>41837</td>\n",
       "    </tr>\n",
       "    <tr>\n",
       "      <th>2</th>\n",
       "      <td>941</td>\n",
       "      <td>[1274671, 2300890, 2301013, 2301184, 2301068, ...</td>\n",
       "      <td>1390525074</td>\n",
       "      <td>41837</td>\n",
       "    </tr>\n",
       "    <tr>\n",
       "      <th>3</th>\n",
       "      <td>945</td>\n",
       "      <td>[2300890, 2300955, 2301184, 2300806, 2300818]</td>\n",
       "      <td>1390592062</td>\n",
       "      <td>41837</td>\n",
       "    </tr>\n",
       "    <tr>\n",
       "      <th>4</th>\n",
       "      <td>947</td>\n",
       "      <td>[3003812, 122561, 4398503, 4398498, 4398495, 3...</td>\n",
       "      <td>1390599651</td>\n",
       "      <td>41837</td>\n",
       "    </tr>\n",
       "  </tbody>\n",
       "</table>\n",
       "</div>"
      ],
      "text/plain": [
       "   session_id                                           sequence          ts  \\\n",
       "0         927      [3313114, 3313106, 1847374, 3313138, 3312808]  1390344124   \n",
       "1         933  [2721045, 205473, 2224399, 2004872, 2061887, 2...  1390452313   \n",
       "2         941  [1274671, 2300890, 2301013, 2301184, 2301068, ...  1390525074   \n",
       "3         945      [2300890, 2300955, 2301184, 2300806, 2300818]  1390592062   \n",
       "4         947  [3003812, 122561, 4398503, 4398498, 4398495, 3...  1390599651   \n",
       "\n",
       "   user_id  \n",
       "0    41837  \n",
       "1    41837  \n",
       "2    41837  \n",
       "3    41837  \n",
       "4    41837  "
      ]
     },
     "execution_count": 5,
     "metadata": {},
     "output_type": "execute_result"
    }
   ],
   "source": [
    "df_songs.head()"
   ]
  },
  {
   "cell_type": "code",
   "execution_count": null,
   "id": "indirect-courtesy",
   "metadata": {},
   "outputs": [],
   "source": []
  },
  {
   "cell_type": "markdown",
   "id": "miniature-personal",
   "metadata": {},
   "source": [
    "Посчитаем статистики"
   ]
  },
  {
   "cell_type": "code",
   "execution_count": 6,
   "id": "authorized-latex",
   "metadata": {},
   "outputs": [],
   "source": [
    "from collections import Counter\n",
    "cnt = Counter()\n",
    "df_songs.sequence.map(cnt.update);"
   ]
  },
  {
   "cell_type": "code",
   "execution_count": 7,
   "id": "handmade-hollow",
   "metadata": {},
   "outputs": [
    {
     "name": "stdout",
     "output_type": "stream",
     "text": [
      "Number of items: 185914\n",
      "Number of users: 1098\n",
      "Number of sessions: 176998\n",
      "\n",
      "Session length:\n",
      "\tAverage: 9.41\n",
      "\tMedian: 9.0\n",
      "\tMin: 5\n",
      "\tMax: 19\n",
      "Sessions per user:\n",
      "\tAverage: 161.20\n",
      "\tMedian: 108.5\n",
      "\tMin: 1\n",
      "\tMax: 1344\n"
     ]
    }
   ],
   "source": [
    "sequence_length = df_songs.sequence.map(len).values\n",
    "n_sessions_per_user = df_songs.groupby('user_id').size()\n",
    "\n",
    "print('Number of items: {}'.format(len(cnt)))\n",
    "print('Number of users: {}'.format(df_songs.user_id.nunique()))\n",
    "print('Number of sessions: {}'.format(len(df_songs)) )\n",
    "\n",
    "print('\\nSession length:\\n\\tAverage: {:.2f}\\n\\tMedian: {}\\n\\tMin: {}\\n\\tMax: {}'.format(\n",
    "    sequence_length.mean(), \n",
    "    np.quantile(sequence_length, 0.5), \n",
    "    sequence_length.min(), \n",
    "    sequence_length.max()))\n",
    "\n",
    "print('Sessions per user:\\n\\tAverage: {:.2f}\\n\\tMedian: {}\\n\\tMin: {}\\n\\tMax: {}'.format(\n",
    "    n_sessions_per_user.mean(), \n",
    "    np.quantile(n_sessions_per_user, 0.5), \n",
    "    n_sessions_per_user.min(), \n",
    "    n_sessions_per_user.max()))"
   ]
  },
  {
   "cell_type": "code",
   "execution_count": 8,
   "id": "physical-sender",
   "metadata": {},
   "outputs": [
    {
     "name": "stdout",
     "output_type": "stream",
     "text": [
      "Most popular items: [(232971, 651), (2536586, 621), (233271, 500), (1534850, 471), (2185901, 465)]\n"
     ]
    }
   ],
   "source": [
    "print('Most popular items: {}'.format(cnt.most_common(5)))"
   ]
  },
  {
   "cell_type": "markdown",
   "id": "secret-first",
   "metadata": {},
   "source": [
    "Проверим названия треков, на первый взгляд похоже на хиты 2015"
   ]
  },
  {
   "cell_type": "code",
   "execution_count": 35,
   "id": "basic-messaging",
   "metadata": {},
   "outputs": [],
   "source": [
    "track_check = pd.read_csv(\"LastFM_track_df_w_artist.csv\")"
   ]
  },
  {
   "cell_type": "code",
   "execution_count": 36,
   "id": "coordinate-runner",
   "metadata": {
    "scrolled": true
   },
   "outputs": [
    {
     "name": "stdout",
     "output_type": "stream",
     "text": [
      "Arctic+Monkeys/_/Do+I+Wanna+Know%3F\n",
      "Sia/_/Chandelier\n",
      "Arctic+Monkeys/_/R+U+Mine%3F\n",
      "Lana+Del+Rey/_/West+Coast\n",
      "Pharrell+Williams/_/Happy\n"
     ]
    }
   ],
   "source": [
    "print(track_check[track_check.track_id == 232971].track.values[0])\n",
    "print(track_check[track_check.track_id == 2536586].track.values[0])\n",
    "print(track_check[track_check.track_id == 233271].track.values[0])\n",
    "print(track_check[track_check.track_id == 1534850].track.values[0])\n",
    "print(track_check[track_check.track_id == 2185901].track.values[0])"
   ]
  },
  {
   "cell_type": "markdown",
   "id": "curious-lighting",
   "metadata": {},
   "source": [
    "### Разделим данные на трейн и тест"
   ]
  },
  {
   "cell_type": "markdown",
   "id": "moral-kingdom",
   "metadata": {},
   "source": [
    "Делить будем по сессиям, т.е последние 35 сессий пользователя пойдут в тест."
   ]
  },
  {
   "cell_type": "code",
   "execution_count": 11,
   "id": "northern-luther",
   "metadata": {},
   "outputs": [],
   "source": [
    "def clean_split(train, test):\n",
    "    \"\"\"\n",
    "    Remove new items from the test set.\n",
    "    :param train: The training set.\n",
    "    :param test: The test set.\n",
    "    :return: The cleaned training and test sets.\n",
    "    \"\"\"\n",
    "    train_items = set()\n",
    "    train['sequence'].apply(lambda seq: train_items.update(set(seq)))\n",
    "    test['sequence'] = test['sequence'].apply(lambda seq: [it for it in seq if it in train_items])\n",
    "    return train, test\n",
    "\n",
    "\n",
    "def last_session_out_split(data,\n",
    "                           user_key='user_id',\n",
    "                           session_key='session_id',\n",
    "                           time_key='ts'):\n",
    "    \"\"\"\n",
    "    Assign the last session of every user to the test set and the remaining ones to the training set\n",
    "    \"\"\"\n",
    "    sessions = data.sort_values(by=[user_key, time_key]).groupby(user_key)[session_key]\n",
    "    last_session = sessions.tail(35)\n",
    "    train = data[~data.session_id.isin(last_session.values)].copy()\n",
    "    test = data[data.session_id.isin(last_session.values)].copy()\n",
    "    train, test = clean_split(train, test)\n",
    "    return train, test"
   ]
  },
  {
   "cell_type": "code",
   "execution_count": 12,
   "id": "ancient-verse",
   "metadata": {},
   "outputs": [],
   "source": [
    "train_data, test_data = last_session_out_split(df_songs)"
   ]
  },
  {
   "cell_type": "code",
   "execution_count": 13,
   "id": "undefined-tract",
   "metadata": {},
   "outputs": [
    {
     "data": {
      "text/plain": [
       "((140227, 4), (36771, 4))"
      ]
     },
     "execution_count": 13,
     "metadata": {},
     "output_type": "execute_result"
    }
   ],
   "source": [
    "train_data.shape, test_data.shape"
   ]
  },
  {
   "cell_type": "code",
   "execution_count": 14,
   "id": "satisfied-action",
   "metadata": {},
   "outputs": [],
   "source": [
    "# df_songs.ts = pd.to_datetime(df_songs.ts,  unit='s')\n",
    "# df_songs.sort_values(by=\"ts\",  inplace = True)"
   ]
  },
  {
   "cell_type": "code",
   "execution_count": 15,
   "id": "alive-plenty",
   "metadata": {},
   "outputs": [],
   "source": [
    "# train_data, test_data = df_songs[:125000],  df_songs[125000:]"
   ]
  },
  {
   "cell_type": "code",
   "execution_count": 16,
   "id": "worse-irish",
   "metadata": {},
   "outputs": [
    {
     "data": {
      "text/html": [
       "<div>\n",
       "<style scoped>\n",
       "    .dataframe tbody tr th:only-of-type {\n",
       "        vertical-align: middle;\n",
       "    }\n",
       "\n",
       "    .dataframe tbody tr th {\n",
       "        vertical-align: top;\n",
       "    }\n",
       "\n",
       "    .dataframe thead th {\n",
       "        text-align: right;\n",
       "    }\n",
       "</style>\n",
       "<table border=\"1\" class=\"dataframe\">\n",
       "  <thead>\n",
       "    <tr style=\"text-align: right;\">\n",
       "      <th></th>\n",
       "      <th>session_id</th>\n",
       "      <th>sequence</th>\n",
       "      <th>ts</th>\n",
       "      <th>user_id</th>\n",
       "    </tr>\n",
       "  </thead>\n",
       "  <tbody>\n",
       "    <tr>\n",
       "      <th>0</th>\n",
       "      <td>927</td>\n",
       "      <td>[3313114, 3313106, 1847374, 3313138, 3312808]</td>\n",
       "      <td>1390344124</td>\n",
       "      <td>41837</td>\n",
       "    </tr>\n",
       "    <tr>\n",
       "      <th>1</th>\n",
       "      <td>933</td>\n",
       "      <td>[2721045, 205473, 2224399, 2004872, 2061887, 2...</td>\n",
       "      <td>1390452313</td>\n",
       "      <td>41837</td>\n",
       "    </tr>\n",
       "    <tr>\n",
       "      <th>2</th>\n",
       "      <td>941</td>\n",
       "      <td>[1274671, 2300890, 2301013, 2301184, 2301068, ...</td>\n",
       "      <td>1390525074</td>\n",
       "      <td>41837</td>\n",
       "    </tr>\n",
       "    <tr>\n",
       "      <th>3</th>\n",
       "      <td>945</td>\n",
       "      <td>[2300890, 2300955, 2301184, 2300806, 2300818]</td>\n",
       "      <td>1390592062</td>\n",
       "      <td>41837</td>\n",
       "    </tr>\n",
       "    <tr>\n",
       "      <th>4</th>\n",
       "      <td>947</td>\n",
       "      <td>[3003812, 122561, 4398503, 4398498, 4398495, 3...</td>\n",
       "      <td>1390599651</td>\n",
       "      <td>41837</td>\n",
       "    </tr>\n",
       "  </tbody>\n",
       "</table>\n",
       "</div>"
      ],
      "text/plain": [
       "   session_id                                           sequence          ts  \\\n",
       "0         927      [3313114, 3313106, 1847374, 3313138, 3312808]  1390344124   \n",
       "1         933  [2721045, 205473, 2224399, 2004872, 2061887, 2...  1390452313   \n",
       "2         941  [1274671, 2300890, 2301013, 2301184, 2301068, ...  1390525074   \n",
       "3         945      [2300890, 2300955, 2301184, 2300806, 2300818]  1390592062   \n",
       "4         947  [3003812, 122561, 4398503, 4398498, 4398495, 3...  1390599651   \n",
       "\n",
       "   user_id  \n",
       "0    41837  \n",
       "1    41837  \n",
       "2    41837  \n",
       "3    41837  \n",
       "4    41837  "
      ]
     },
     "execution_count": 16,
     "metadata": {},
     "output_type": "execute_result"
    }
   ],
   "source": [
    "train_data.head()"
   ]
  },
  {
   "cell_type": "code",
   "execution_count": 17,
   "id": "creative-greenhouse",
   "metadata": {},
   "outputs": [
    {
     "data": {
      "text/html": [
       "<div>\n",
       "<style scoped>\n",
       "    .dataframe tbody tr th:only-of-type {\n",
       "        vertical-align: middle;\n",
       "    }\n",
       "\n",
       "    .dataframe tbody tr th {\n",
       "        vertical-align: top;\n",
       "    }\n",
       "\n",
       "    .dataframe thead th {\n",
       "        text-align: right;\n",
       "    }\n",
       "</style>\n",
       "<table border=\"1\" class=\"dataframe\">\n",
       "  <thead>\n",
       "    <tr style=\"text-align: right;\">\n",
       "      <th></th>\n",
       "      <th>session_id</th>\n",
       "      <th>sequence</th>\n",
       "      <th>ts</th>\n",
       "      <th>user_id</th>\n",
       "    </tr>\n",
       "  </thead>\n",
       "  <tbody>\n",
       "    <tr>\n",
       "      <th>71</th>\n",
       "      <td>1305</td>\n",
       "      <td>[1049133, 3292800, 548460, 1659836, 2660982, 1...</td>\n",
       "      <td>1404053242</td>\n",
       "      <td>41837</td>\n",
       "    </tr>\n",
       "    <tr>\n",
       "      <th>72</th>\n",
       "      <td>1311</td>\n",
       "      <td>[3755400, 2077729, 3003731, 642325, 3618497, 3...</td>\n",
       "      <td>1404656240</td>\n",
       "      <td>41837</td>\n",
       "    </tr>\n",
       "    <tr>\n",
       "      <th>73</th>\n",
       "      <td>1314</td>\n",
       "      <td>[2212473, 2495852, 60916, 3420925, 1660062, 21...</td>\n",
       "      <td>1404825707</td>\n",
       "      <td>41837</td>\n",
       "    </tr>\n",
       "    <tr>\n",
       "      <th>74</th>\n",
       "      <td>1320</td>\n",
       "      <td>[3283748, 3283755, 3283688, 3283537, 3283601, ...</td>\n",
       "      <td>1405031715</td>\n",
       "      <td>41837</td>\n",
       "    </tr>\n",
       "    <tr>\n",
       "      <th>75</th>\n",
       "      <td>1322</td>\n",
       "      <td>[3283727, 3283714, 3283673, 3283532, 3283744, ...</td>\n",
       "      <td>1405039511</td>\n",
       "      <td>41837</td>\n",
       "    </tr>\n",
       "  </tbody>\n",
       "</table>\n",
       "</div>"
      ],
      "text/plain": [
       "    session_id                                           sequence          ts  \\\n",
       "71        1305  [1049133, 3292800, 548460, 1659836, 2660982, 1...  1404053242   \n",
       "72        1311  [3755400, 2077729, 3003731, 642325, 3618497, 3...  1404656240   \n",
       "73        1314  [2212473, 2495852, 60916, 3420925, 1660062, 21...  1404825707   \n",
       "74        1320  [3283748, 3283755, 3283688, 3283537, 3283601, ...  1405031715   \n",
       "75        1322  [3283727, 3283714, 3283673, 3283532, 3283744, ...  1405039511   \n",
       "\n",
       "    user_id  \n",
       "71    41837  \n",
       "72    41837  \n",
       "73    41837  \n",
       "74    41837  \n",
       "75    41837  "
      ]
     },
     "execution_count": 17,
     "metadata": {},
     "output_type": "execute_result"
    }
   ],
   "source": [
    "test_data.head()"
   ]
  },
  {
   "cell_type": "markdown",
   "id": "matched-bibliography",
   "metadata": {},
   "source": [
    "Проверим размеры последовательностей для теста"
   ]
  },
  {
   "cell_type": "code",
   "execution_count": 18,
   "id": "congressional-raleigh",
   "metadata": {},
   "outputs": [],
   "source": [
    "counter = 0\n",
    "for i in test_data.sequence:\n",
    "    if len(i) <5:\n",
    "        counter+=1"
   ]
  },
  {
   "cell_type": "code",
   "execution_count": 19,
   "id": "mediterranean-joint",
   "metadata": {},
   "outputs": [
    {
     "data": {
      "text/plain": [
       "3409"
      ]
     },
     "execution_count": 19,
     "metadata": {},
     "output_type": "execute_result"
    }
   ],
   "source": [
    "counter"
   ]
  },
  {
   "cell_type": "markdown",
   "id": "threatened-channel",
   "metadata": {},
   "source": [
    "Часть данных в тесте содержит последовательности менее 5, от них необходимо избавиться"
   ]
  },
  {
   "cell_type": "code",
   "execution_count": 20,
   "id": "fifth-shell",
   "metadata": {},
   "outputs": [],
   "source": [
    "min_k_seq = 5\n",
    "\n",
    "def del_empty_sequence(full_sequence):\n",
    "    last_k = 0\n",
    "    if len(full_sequence) < min_k_seq:\n",
    "        last_k == 0\n",
    "    else:\n",
    "        last_k +=1\n",
    "    \n",
    "    return last_k"
   ]
  },
  {
   "cell_type": "code",
   "execution_count": 21,
   "id": "interstate-sensitivity",
   "metadata": {},
   "outputs": [],
   "source": [
    "test_data['empty_seq_flag'] = test_data['sequence'].apply(del_empty_sequence)"
   ]
  },
  {
   "cell_type": "code",
   "execution_count": 22,
   "id": "virgin-toddler",
   "metadata": {},
   "outputs": [],
   "source": [
    "test_data = test_data[test_data.empty_seq_flag==1]"
   ]
  },
  {
   "cell_type": "markdown",
   "id": "amateur-cradle",
   "metadata": {},
   "source": [
    "Для теста будем использовать последние 5 треков"
   ]
  },
  {
   "cell_type": "code",
   "execution_count": 23,
   "id": "fuzzy-throw",
   "metadata": {},
   "outputs": [],
   "source": [
    "last_k_seq = 5\n",
    "\n",
    "def crop_sequence(full_sequence):\n",
    "    last_k_sequence = []\n",
    "\n",
    "    if len(full_sequence) > last_k_seq:\n",
    "        last_k_sequence.append(full_sequence[-last_k_seq:])\n",
    "    else:\n",
    "        last_k_sequence.append(full_sequence)\n",
    "    \n",
    "    return last_k_sequence[0]"
   ]
  },
  {
   "cell_type": "code",
   "execution_count": 24,
   "id": "international-secretariat",
   "metadata": {},
   "outputs": [],
   "source": [
    "test_data['sequence'] = test_data['sequence'].apply(crop_sequence)"
   ]
  },
  {
   "cell_type": "code",
   "execution_count": 25,
   "id": "promising-portfolio",
   "metadata": {},
   "outputs": [
    {
     "data": {
      "text/plain": [
       "((140227, 4), (33362, 5))"
      ]
     },
     "execution_count": 25,
     "metadata": {},
     "output_type": "execute_result"
    }
   ],
   "source": [
    "train_data.shape, test_data.shape"
   ]
  },
  {
   "cell_type": "code",
   "execution_count": null,
   "id": "exotic-designation",
   "metadata": {},
   "outputs": [],
   "source": []
  },
  {
   "cell_type": "markdown",
   "id": "documentary-classics",
   "metadata": {},
   "source": [
    "# Метрики оценки качества модели"
   ]
  },
  {
   "cell_type": "markdown",
   "id": "wired-resolution",
   "metadata": {},
   "source": [
    "В качестве метрики - Recall"
   ]
  },
  {
   "cell_type": "code",
   "execution_count": 26,
   "id": "comic-rabbit",
   "metadata": {},
   "outputs": [],
   "source": [
    "def recall(ground_truth, prediction):\n",
    "    \"\"\"\n",
    "    Compute Recall metric\n",
    "    :param ground_truth: the ground truth set or sequence\n",
    "    :param prediction: the predicted set or sequence\n",
    "    :return: the value of the metric\n",
    "    \"\"\"\n",
    "#     ground_truth = remove_duplicates(ground_truth)\n",
    "#     prediction = remove_duplicates(prediction)\n",
    "    recall_score = count_a_in_b_unique(prediction, ground_truth)\n",
    "    assert 0 <= recall_score <= 1\n",
    "    return recall_score\n",
    "\n",
    "def count_a_in_b_unique(a, b):\n",
    "    \"\"\"\n",
    "    :param a: list of lists\n",
    "    :param b: list of lists\n",
    "    :return: number of elements of a in b\n",
    "    \"\"\"\n",
    "    count = 0\n",
    "    for el in a:\n",
    "        if el in b:\n",
    "            count += 1\n",
    "    return count\n",
    "\n",
    "\n",
    "def remove_duplicates(l):\n",
    "    return [list(x) for x in set(tuple(x) for x in l)]"
   ]
  },
  {
   "cell_type": "markdown",
   "id": "waiting-department",
   "metadata": {},
   "source": [
    "# Compact Prediction Tree"
   ]
  },
  {
   "cell_type": "markdown",
   "id": "bearing-integral",
   "metadata": {},
   "source": [
    "Алгоритм предсказания на основе частых последовательностей: https://cpt.readthedocs.io/en/latest/intro.html"
   ]
  },
  {
   "cell_type": "code",
   "execution_count": 27,
   "id": "aboriginal-provision",
   "metadata": {},
   "outputs": [],
   "source": [
    "train_ = train_data.sequence.values.tolist()\n",
    "test_ = test_data.sequence.values.tolist()"
   ]
  },
  {
   "cell_type": "code",
   "execution_count": 28,
   "id": "advisory-opportunity",
   "metadata": {
    "scrolled": true
   },
   "outputs": [
    {
     "data": {
      "text/plain": [
       "(140227, 33362)"
      ]
     },
     "execution_count": 28,
     "metadata": {},
     "output_type": "execute_result"
    }
   ],
   "source": [
    "len(train_), len(test_)"
   ]
  },
  {
   "cell_type": "code",
   "execution_count": 29,
   "id": "incident-final",
   "metadata": {},
   "outputs": [],
   "source": [
    "from cpt.cpt import Cpt"
   ]
  },
  {
   "cell_type": "markdown",
   "id": "warming-titanium",
   "metadata": {},
   "source": [
    "Обучение"
   ]
  },
  {
   "cell_type": "code",
   "execution_count": 30,
   "id": "dying-beauty",
   "metadata": {},
   "outputs": [],
   "source": [
    "recommender = Cpt()\n",
    "recommender.fit(train_)"
   ]
  },
  {
   "cell_type": "markdown",
   "id": "widespread-reward",
   "metadata": {},
   "source": [
    "Оценка алгоритма происходит следующим образом: алгоритм предсказывает следующий трек исходя из поданной последовательности длиной k и рассчитывается метрика Recall, при этом k итерационно увеличивается и Recall усредняется по всей тестовой выборке для разной длины последователньости k."
   ]
  },
  {
   "cell_type": "code",
   "execution_count": 31,
   "id": "undefined-comparative",
   "metadata": {},
   "outputs": [],
   "source": [
    "from tqdm import tqdm\n",
    "\n",
    "\"\"\" given_k количество треков от начала последовательности, \n",
    "которые будут учитываться как в рамках сессии, т.е. k=1, след только первый эелемент сессии\"\"\"\n",
    "given_k = 1 \n",
    "\n",
    "\"\"\" look_ahead количество элементов, которые считаются gt меткой\"\"\"\n",
    "look_ahead=1\n",
    "\n",
    "\"\"\" step шаг с которым происходит обновление given_k на след. итерации\"\"\"\n",
    "step = 1\n",
    "\n",
    "\"\"\" длина тестовой сессии\"\"\"\n",
    "profile_len = 5\n",
    "\n",
    "\n",
    "\"\"\" длина списка рекомендаций\"\"\"\n",
    "top_n = 5\n",
    "\n",
    "def sliding_evaluation_func(test_data, recommender, given_k = given_k, look_ahead = look_ahead, \n",
    "                            step= step, profile_len = profile_len, \n",
    "                           top_n = top_n):\n",
    "    res = []\n",
    "\n",
    "    test_data = np.array(test_data)\n",
    "    eval_res = 0.0\n",
    "    eval_cnt = 0\n",
    "\n",
    "    for k in range(given_k, profile_len, step):\n",
    "        profile = (test_data[:,:k]).tolist()\n",
    "        gt = (test_data[:,k]).tolist()\n",
    "        preds = recommender.predict_k(profile, top_n)\n",
    "\n",
    "        recall_total = 0\n",
    "\n",
    "        for i in range(0, len(preds)):\n",
    "#             print(profile[i], [gt[i]],preds[i])\n",
    "            recall_total+=recall([gt[i]],preds[i])\n",
    "        res.append(recall_total/len(preds))\n",
    "        \n",
    "    return np.mean(res)"
   ]
  },
  {
   "cell_type": "code",
   "execution_count": 32,
   "id": "chemical-illness",
   "metadata": {},
   "outputs": [],
   "source": [
    "recall_at_5_CPT = sliding_evaluation_func(test_, recommender)"
   ]
  },
  {
   "cell_type": "code",
   "execution_count": 33,
   "id": "automated-terrain",
   "metadata": {},
   "outputs": [
    {
     "name": "stdout",
     "output_type": "stream",
     "text": [
      "Recall at 5 predictions for CPT++ algorithm:  0.3004241352436904\n"
     ]
    }
   ],
   "source": [
    "print('Recall at 5 predictions for CPT++ algorithm: ',recall_at_5_CPT)"
   ]
  },
  {
   "cell_type": "markdown",
   "id": "binding-idaho",
   "metadata": {},
   "source": [
    "__Пример работы алгоритма__"
   ]
  },
  {
   "cell_type": "code",
   "execution_count": 107,
   "id": "attempted-immune",
   "metadata": {},
   "outputs": [
    {
     "data": {
      "text/plain": [
       "[548460]"
      ]
     },
     "execution_count": 107,
     "metadata": {},
     "output_type": "execute_result"
    }
   ],
   "source": [
    "profile = (test_[0][:k])\n",
    "profile"
   ]
  },
  {
   "cell_type": "code",
   "execution_count": 34,
   "id": "rising-intro",
   "metadata": {},
   "outputs": [
    {
     "name": "stdout",
     "output_type": "stream",
     "text": [
      "profile:  [3440873]\n",
      "gt:  3440875\n",
      "predictions:  [[3440894, 3440886, 3440875, 3440902, 3440900]]\n",
      "profile:  [3440873, 3440875]\n",
      "gt:  3440902\n",
      "predictions:  [[3440894, 3440886, 3440902, 3440900, 3440874]]\n",
      "profile:  [3440873, 3440875, 3440902]\n",
      "gt:  3440890\n",
      "predictions:  [[3440894, 3440886, 3440900, 3440890, 3440874]]\n",
      "profile:  [3440873, 3440875, 3440902, 3440890]\n",
      "gt:  3440900\n",
      "predictions:  [[3440894, 3440886, 3440874, 3440877, 3440900]]\n"
     ]
    }
   ],
   "source": [
    "for k in range(given_k, profile_len, step):\n",
    "    profile = (test_[36][:k])\n",
    "    gt = (test_[36][k])\n",
    "    preds = recommender.predict_k([profile], top_n)\n",
    "    print('profile: ', profile)\n",
    "    print('gt: ', gt)\n",
    "    print('predictions: ', preds)"
   ]
  },
  {
   "cell_type": "code",
   "execution_count": 38,
   "id": "split-greece",
   "metadata": {},
   "outputs": [],
   "source": [
    "ids = [3440894, 3440886, 3440875, 3440902, 3440900]"
   ]
  },
  {
   "cell_type": "code",
   "execution_count": 45,
   "id": "prime-tongue",
   "metadata": {},
   "outputs": [
    {
     "name": "stdout",
     "output_type": "stream",
     "text": [
      "profile:  Heart+of+a+Coward/_/All+Eyes+To+The+Sky\n",
      "gt:  Heart+of+a+Coward/_/Around+A+Girl+(In+80+Days)\n",
      "predictions:  ['Heart+of+a+Coward/_/We+Stand+As+One'\n",
      " 'Heart+of+a+Coward/_/Hope+and+hindrance' 'Heart+of+a+Coward/_/Nightmare'\n",
      " 'Heart+of+a+Coward/_/Shade'\n",
      " 'Heart+of+a+Coward/_/Around+A+Girl+(In+80+Days)']\n"
     ]
    }
   ],
   "source": [
    "print('profile: ', track_check[track_check.track_id.isin([3440873])].track.values[0])\n",
    "print('gt: ', track_check[track_check.track_id.isin([3440875])].track.values[0])\n",
    "print('predictions: ', track_check[track_check.track_id.isin(ids)].track.values)"
   ]
  },
  {
   "cell_type": "code",
   "execution_count": 47,
   "id": "organic-sight",
   "metadata": {},
   "outputs": [],
   "source": [
    "prof_1 = [3440873, 3440875]\n",
    "preds_1 = [3440894, 3440886, 3440902, 3440900, 3440874]"
   ]
  },
  {
   "cell_type": "code",
   "execution_count": 48,
   "id": "placed-laundry",
   "metadata": {},
   "outputs": [
    {
     "name": "stdout",
     "output_type": "stream",
     "text": [
      "profile:  ['Heart+of+a+Coward/_/All+Eyes+To+The+Sky'\n",
      " 'Heart+of+a+Coward/_/Around+A+Girl+(In+80+Days)']\n",
      "gt:  Heart+of+a+Coward/_/We+Stand+As+One\n",
      "predictions:  ['Heart+of+a+Coward/_/We+Stand+As+One'\n",
      " 'Heart+of+a+Coward/_/And+Only+Time+Will+Tell'\n",
      " 'Heart+of+a+Coward/_/Hope+and+hindrance' 'Heart+of+a+Coward/_/Nightmare'\n",
      " 'Heart+of+a+Coward/_/Shade']\n"
     ]
    }
   ],
   "source": [
    "print('profile: ', track_check[track_check.track_id.isin(prof_1)].track.values)\n",
    "print('gt: ', track_check[track_check.track_id.isin([3440902])].track.values[0])\n",
    "print('predictions: ', track_check[track_check.track_id.isin(preds_1)].track.values)"
   ]
  },
  {
   "cell_type": "code",
   "execution_count": null,
   "id": "closing-proportion",
   "metadata": {},
   "outputs": [],
   "source": []
  }
 ],
 "metadata": {
  "kernelspec": {
   "display_name": "srs",
   "language": "python",
   "name": "srs"
  },
  "language_info": {
   "codemirror_mode": {
    "name": "ipython",
    "version": 3
   },
   "file_extension": ".py",
   "mimetype": "text/x-python",
   "name": "python",
   "nbconvert_exporter": "python",
   "pygments_lexer": "ipython3",
   "version": "3.7.1"
  }
 },
 "nbformat": 4,
 "nbformat_minor": 5
}
